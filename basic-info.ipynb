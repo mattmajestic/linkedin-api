{
 "cells": [
  {
   "cell_type": "code",
   "execution_count": null,
   "metadata": {},
   "outputs": [],
   "source": [
    "## Setting Up Connection via ENV\n",
    "import os\n",
    "from dotenv import load_dotenv \n",
    "load_dotenv()\n",
    "import json\n",
    "from linkedin_api import Linkedin\n",
    "# Authenticate using any Linkedin account credentials\n",
    "api = Linkedin(os.getenv(\"LKD_EMAIL\"), os.getenv(\"LKD_PWD\"))"
   ]
  },
  {
   "cell_type": "code",
   "execution_count": null,
   "metadata": {},
   "outputs": [],
   "source": [
    "## Grab My Profile\n",
    "profile = api.get_profile(os.getenv(\"LKD_URL\"))\n",
    "profle_json = json.dumps(profile) \n",
    "profle_json"
   ]
  },
  {
   "cell_type": "code",
   "execution_count": null,
   "metadata": {},
   "outputs": [],
   "source": [
    "## My Contact Info Available on Linkedin\n",
    "contact_info = api.get_profile_contact_info(os.getenv(\"LKD_URL\"))\n",
    "contact_json = json.dumps(contact_info) \n",
    "contact_json"
   ]
  },
  {
   "cell_type": "code",
   "execution_count": null,
   "metadata": {},
   "outputs": [],
   "source": [
    "# GET my 1st degree connections\n",
    "connections = api.get_profile_connections(os.getenv(\"LKD_URL\"))\n",
    "connections_json = json.dumps(connections) \n",
    "connections_json"
   ]
  },
  {
   "cell_type": "code",
   "execution_count": null,
   "metadata": {},
   "outputs": [],
   "source": [
    "# Save my Linkedin Data to data directory \n",
    "jsonFile = open(\"data/connections.json\", \"w\")\n",
    "jsonFile.write(connections_json)\n",
    "jsonFile.close()"
   ]
  }
 ],
 "metadata": {
  "kernelspec": {
   "display_name": "Python 3.10.5 64-bit (windows store)",
   "language": "python",
   "name": "python3"
  },
  "language_info": {
   "codemirror_mode": {
    "name": "ipython",
    "version": 3
   },
   "file_extension": ".py",
   "mimetype": "text/x-python",
   "name": "python",
   "nbconvert_exporter": "python",
   "pygments_lexer": "ipython3",
   "version": "3.10.7"
  },
  "orig_nbformat": 4,
  "vscode": {
   "interpreter": {
    "hash": "48ef9f8cbd7a4cab6fec46545a0024a2606dc8876e4074e4d9c473eb29b52d3c"
   }
  }
 },
 "nbformat": 4,
 "nbformat_minor": 2
}
